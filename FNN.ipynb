{
  "cells": [
    {
      "cell_type": "code",
      "execution_count": 187,
      "metadata": {
        "colab": {
          "base_uri": "https://localhost:8080/"
        },
        "id": "70svemU__xX-",
        "outputId": "f6fdcf78-c942-4014-aec7-f95719b72625"
      },
      "outputs": [
        {
          "name": "stdout",
          "output_type": "stream",
          "text": [
            "Drive already mounted at /content/drive; to attempt to forcibly remount, call drive.mount(\"/content/drive\", force_remount=True).\n"
          ]
        }
      ],
      "source": [
        "import numpy as np\n",
        "import pandas as pd\n",
        "from google.colab import drive\n",
        "drive.mount('/content/drive')"
      ]
    },
    {
      "cell_type": "code",
      "execution_count": 188,
      "metadata": {
        "id": "Ikv25xuhBM3l"
      },
      "outputs": [],
      "source": [
        "from sklearn.model_selection import train_test_split\n",
        "\n",
        "def load_dataset():\n",
        "    df = pd.read_csv(\"/content/hwdataset.csv\", delimiter=',')\n",
        "\n",
        "    df.Sex=df.Sex.replace({\"M\":0,\"F\":1})\n",
        "    df.BP=df.BP.replace({\"NORMAL\":0,\"LOW\":1,\"HIGH\":2})\n",
        "    df.Cholesterol=df.Cholesterol.replace({\"NORMAL\":0,\"HIGH\":1})\n",
        "    df.Drug=df.Drug.replace({\"DrugY\":0,\"drugC\":1,\"drugX\":2,\"drugA\":3,\"drugB\":4})\n",
        "    \n",
        "    X, y = df.iloc[:,:-1], df.iloc[:,-1]\n",
        "    \n",
        "    X_train, X_test, y_train, y_test = train_test_split(X, y, test_size=0.2, random_state=0)\n",
        "    X_train, X_val, y_train, y_val = train_test_split(X_train, y_train, test_size=0.25, random_state=0)\n",
        "    \n",
        "    return X_train, y_train, X_val, y_val, X_test, y_test"
      ]
    },
    {
      "cell_type": "code",
      "execution_count": 369,
      "metadata": {
        "id": "RVafpic1Bskp"
      },
      "outputs": [],
      "source": [
        "import torch\n",
        "import torch.nn as nn\n",
        "import torchvision.transforms as transforms\n",
        "import torchvision.datasets as dsets\n",
        "\n",
        "class FNN(nn.Module):\n",
        "    def __init__(self, input_dim, hidden_dim, output_dim):\n",
        "        super(FNN, self).__init__()\n",
        "        self.fc1 = nn.Linear(input_dim, hidden_dim)\n",
        "        self.relu = nn.ReLU() \n",
        "        self.fc2 = nn.Linear(hidden_dim, output_dim)  \n",
        "        self.sigmoid = nn.Sigmoid()\n",
        "\n",
        "    def forward(self, x):\n",
        "        out = self.fc1(x)\n",
        "        out = self.relu(out)\n",
        "        out = self.fc2(out)\n",
        "        out = self.sigmoid(out)\n",
        "        return out"
      ]
    },
    {
      "cell_type": "code",
      "execution_count": 370,
      "metadata": {
        "id": "wivBsoK9Envr"
      },
      "outputs": [],
      "source": [
        "input_dim = 5\n",
        "hidden_dim = 15\n",
        "output_dim = 5\n",
        "\n",
        "model = FNN(input_dim, hidden_dim, output_dim)"
      ]
    },
    {
      "cell_type": "code",
      "execution_count": 371,
      "metadata": {
        "id": "PjkVd9miEyMX"
      },
      "outputs": [],
      "source": [
        "criterion = nn.CrossEntropyLoss()\n",
        "learning_rate = 0.001\n",
        "optimizer = torch.optim.Adam(model.parameters(), lr=learning_rate)"
      ]
    },
    {
      "cell_type": "code",
      "execution_count": 372,
      "metadata": {
        "id": "p_oRDE4CE5xZ"
      },
      "outputs": [],
      "source": [
        "batch_size = 32\n",
        "n_iters = 5000\n",
        "X_train, y_train, X_val, y_val, X_test, y_test = load_dataset()\n",
        "\n",
        "\n",
        "train_tensor = torch.utils.data.TensorDataset(torch.tensor(X_train.values.astype(np.float32)) , torch.tensor(y_train.values.astype(np.int32)).type(torch.LongTensor)) \n",
        "train_loader = torch.utils.data.DataLoader(dataset = train_tensor, batch_size = batch_size, shuffle = True)\n",
        "\n",
        "val_tensor = torch.utils.data.TensorDataset(torch.tensor(X_val.values.astype(np.float32)) , torch.tensor(y_val.values.astype(np.int32)).type(torch.LongTensor)) \n",
        "val_loader = torch.utils.data.DataLoader(dataset = val_tensor, batch_size = batch_size, shuffle = False)"
      ]
    },
    {
      "cell_type": "code",
      "execution_count": 373,
      "metadata": {
        "colab": {
          "base_uri": "https://localhost:8080/"
        },
        "id": "l__avqb2G-gn",
        "outputId": "0e579338-5ec7-4c50-923f-c6a890bb3cb9"
      },
      "outputs": [
        {
          "name": "stdout",
          "output_type": "stream",
          "text": [
            "Epoch: 0. Loss: 2.3467841148376465. Accuracy: 8.333333015441895\n",
            "Epoch: 500. Loss: 1.471220890680949. Accuracy: 77.77777862548828\n",
            "Epoch: 1000. Loss: 1.378138542175293. Accuracy: 83.33333587646484\n",
            "Epoch: 1500. Loss: 1.3138115406036377. Accuracy: 88.88888549804688\n",
            "Epoch: 2000. Loss: 1.2732056379318237. Accuracy: 91.66666412353516\n",
            "Epoch: 2500. Loss: 1.259815752506256. Accuracy: 97.22222137451172\n",
            "Finished Training\n"
          ]
        }
      ],
      "source": [
        "num_epochs = 3000\n",
        "for epoch in range(num_epochs):\n",
        "\n",
        "    running_loss = 0.0\n",
        "\n",
        "    for i, data in enumerate(train_loader):\n",
        "        inputs, labels = data\n",
        "        optimizer.zero_grad()\n",
        "\n",
        "        outputs = model(inputs)\n",
        "        loss = criterion(outputs, labels)\n",
        "        loss.backward()\n",
        "        optimizer.step()\n",
        "        running_loss += loss.item()\n",
        "    \n",
        "    running_loss/=i\n",
        "    correct = 0\n",
        "    total = 0\n",
        "    iter = 0\n",
        "    \n",
        "    if (epoch)%500 == 0:\n",
        "      for inputs, labels in val_loader:\n",
        "          iter+=1\n",
        "          outputs = model(inputs)\n",
        "          _, predicted = torch.max(outputs.data, 1)\n",
        "          total += labels.size(0)\n",
        "          correct += (predicted == labels).sum()\n",
        "          accuracy = 100 * correct / total\n",
        "\n",
        "      print('Epoch: {}. Loss: {}. Accuracy: {}'.format(epoch, running_loss, accuracy))\n",
        "print('Finished Training')"
      ]
    },
    {
      "cell_type": "code",
      "execution_count": 374,
      "metadata": {
        "colab": {
          "base_uri": "https://localhost:8080/"
        },
        "id": "-KrB_KhCHTHu",
        "outputId": "ba556a74-1556-4e30-b8ca-d5dc42379a31"
      },
      "outputs": [
        {
          "name": "stdout",
          "output_type": "stream",
          "text": [
            "Iteration: 1. Loss: 0.9089741110801697. Accuracy: 90.625\n",
            "Iteration: 2. Loss: 0.9089741110801697. Accuracy: 91.66666412353516\n"
          ]
        }
      ],
      "source": [
        "correct = 0\n",
        "total = 0\n",
        "iter = 0\n",
        "\n",
        "val_tensor = torch.utils.data.TensorDataset(torch.tensor(X_val.values.astype(np.float32)) , torch.tensor(y_val.values.astype(np.int32)).type(torch.LongTensor)) \n",
        "val_loader = torch.utils.data.DataLoader(dataset = val_tensor, batch_size = batch_size, shuffle = False)\n",
        "\n",
        "for inputs, labels in val_loader:\n",
        "    iter+=1\n",
        "    outputs = model(inputs)\n",
        "    _, predicted = torch.max(outputs.data, 1)\n",
        "    total += labels.size(0)\n",
        "    correct += (predicted == labels).sum()\n",
        "    accuracy = 100 * correct / total\n",
        "    print('Iteration: {}. Loss: {}. Accuracy: {}'.format(iter, loss.item(), accuracy))"
      ]
    },
    {
      "cell_type": "code",
      "execution_count": 375,
      "metadata": {
        "colab": {
          "base_uri": "https://localhost:8080/"
        },
        "id": "D8FaOceTmwD_",
        "outputId": "712b5ec9-0c54-4ef3-df1d-6f9bfbecd72c"
      },
      "outputs": [
        {
          "name": "stdout",
          "output_type": "stream",
          "text": [
            "Iteration: 1. Loss: 0.9089741110801697. Accuracy: 87.5\n",
            "Iteration: 2. Loss: 0.9089741110801697. Accuracy: 86.11111450195312\n"
          ]
        }
      ],
      "source": [
        "correct = 0\n",
        "total = 0\n",
        "iter = 0\n",
        "test_tensor = torch.utils.data.TensorDataset(torch.tensor(X_test.values.astype(np.float32)) , torch.tensor(y_test.values.astype(np.int32)).type(torch.LongTensor)) \n",
        "test_loader = torch.utils.data.DataLoader(dataset = test_tensor, batch_size = batch_size, shuffle = False)\n",
        "\n",
        "for inputs, labels in test_loader:\n",
        "    iter+=1\n",
        "    outputs = model(inputs)\n",
        "    _, predicted = torch.max(outputs.data, 1)\n",
        "    total += labels.size(0)\n",
        "    correct += (predicted == labels).sum()\n",
        "    accuracy = 100 * correct / total\n",
        "\n",
        "    print('Iteration: {}. Loss: {}. Accuracy: {}'.format(iter, loss.item(), accuracy))"
      ]
    },
    {
      "cell_type": "code",
      "execution_count": 378,
      "metadata": {
        "id": "kG33VYrIqnQ0"
      },
      "outputs": [],
      "source": [
        "torch.save(model.state_dict(), \"/content/model\")"
      ]
    },
    {
      "cell_type": "code",
      "execution_count": 387,
      "metadata": {
        "id": "dkFfEFTdEnPZ"
      },
      "outputs": [],
      "source": [
        "def count_accuracy_on_file(root_to_the_file):\n",
        "  #load model\n",
        "  model.load_state_dict(torch.load(\"/content/model\"))\n",
        "\n",
        "  #read from file\n",
        "  df = pd.read_csv(root_to_the_file, delimiter=',')\n",
        "  df.Sex=df.Sex.replace({\"M\":0,\"F\":1})\n",
        "  df.BP=df.BP.replace({\"NORMAL\":0,\"LOW\":1,\"HIGH\":2})\n",
        "  df.Cholesterol=df.Cholesterol.replace({\"NORMAL\":0,\"HIGH\":1})\n",
        "  df.Drug=df.Drug.replace({\"DrugY\":0,\"drugC\":1,\"drugX\":2,\"drugA\":3,\"drugB\":4})\n",
        "  X, y = df.iloc[:,:-1], df.iloc[:,-1]\n",
        "  new_test_tensor = torch.utils.data.TensorDataset(torch.tensor(X.values.astype(np.float32)) , torch.tensor(y.values.astype(np.int32)).type(torch.LongTensor)) \n",
        "  new_test_loader = torch.utils.data.DataLoader(dataset = test_tensor, batch_size = batch_size, shuffle = False)\n",
        "\n",
        "  #count accuracy of the model on the data from the file\n",
        "  correct = 0\n",
        "  total = 0\n",
        "  iter = 0\n",
        "  tot_acc = 0\n",
        "  tot_los = 0\n",
        "  for inputs, labels in new_test_loader:\n",
        "    iter+=1\n",
        "    outputs = model(inputs)\n",
        "    _, predicted = torch.max(outputs.data, 1)\n",
        "    total += labels.size(0)\n",
        "    correct += (predicted == labels).sum()\n",
        "    accuracy = 100 * correct / total\n",
        "    tot_acc += accuracy\n",
        "    tot_los += loss.item()\n",
        "  \n",
        "  # Print Loss\n",
        "  print('Loss: {}. Accuracy: {}'.format(tot_los/iter, tot_acc/iter))\n",
        "\n",
        "  return accuracy\n"
      ]
    },
    {
      "cell_type": "code",
      "execution_count": 388,
      "metadata": {
        "colab": {
          "base_uri": "https://localhost:8080/"
        },
        "id": "Y38Kfr6hFDPc",
        "outputId": "ba69e54f-28e8-4769-e163-5f811782a045"
      },
      "outputs": [
        {
          "name": "stdout",
          "output_type": "stream",
          "text": [
            "Loss: 0.9089741110801697. Accuracy: 86.80555725097656\n"
          ]
        },
        {
          "data": {
            "text/plain": [
              "tensor(86.1111)"
            ]
          },
          "execution_count": 388,
          "metadata": {},
          "output_type": "execute_result"
        }
      ],
      "source": [
        "#write root to the file below\n",
        "filename = '/content/hwdataset.csv'\n",
        "\n",
        "count_accuracy_on_file(filename)"
      ]
    },
    {
      "cell_type": "code",
      "execution_count": null,
      "metadata": {
        "id": "uimFa-fdGt3a"
      },
      "outputs": [],
      "source": []
    }
  ],
  "metadata": {
    "colab": {
      "collapsed_sections": [],
      "provenance": []
    },
    "kernelspec": {
      "display_name": "Python 3",
      "name": "python3"
    },
    "language_info": {
      "name": "python"
    }
  },
  "nbformat": 4,
  "nbformat_minor": 0
}
